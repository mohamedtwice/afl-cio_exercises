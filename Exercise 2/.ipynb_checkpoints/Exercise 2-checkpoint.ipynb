{
 "cells": [
  {
   "cell_type": "code",
   "execution_count": null,
   "metadata": {
    "collapsed": true
   },
   "outputs": [],
   "source": [
    "# Importing pandas and numpy\n",
    "import pandas as pd\n",
    "import numpy as np"
   ]
  },
  {
   "cell_type": "code",
   "execution_count": null,
   "metadata": {
    "collapsed": true
   },
   "outputs": [],
   "source": [
    "# Convert spreadsheets into variables and merge them\n",
    "v12 = pd.read_excel('../data/Volunteers 1.1.12-12.31.12.xlsx')\n",
    "v14 = pd.read_excel('../data/Volunteers 1.1.14-12.31.14.xlsx')\n",
    "v12_14 = pd.concat([v12, v14])"
   ]
  },
  {
   "cell_type": "code",
   "execution_count": null,
   "metadata": {
    "collapsed": true
   },
   "outputs": [],
   "source": [
    "v12.columns = v12.columns.str.replace(' ', '_')\n",
    "v14.columns = v14.columns.str.replace(' ', '_')\n",
    "v12_14.columns = v14.columns.str.replace(' ', '_')"
   ]
  },
  {
   "cell_type": "code",
   "execution_count": null,
   "metadata": {},
   "outputs": [],
   "source": [
    "# Display the unique values of column\n",
    "v14.International_Name.unique()"
   ]
  },
  {
   "cell_type": "code",
   "execution_count": null,
   "metadata": {
    "collapsed": true
   },
   "outputs": [],
   "source": [
    "# Replace acronyms with long version of affiliate name\n",
    "v12_int_longname = v12.replace({'International_Name' : { 'AFGE' : 'GOVERNMENT WORKERS', 'AFGWU' : 'GLASS WORKERS, FLINT', 'AFM' : 'MUSICIANS', 'AFSA' : 'SCHOOL ADMINISTRATORS', \n",
    "                                     'AFSCME' : 'STATE, COUNTY & MUNICIPAL EMPLOYEES', 'AFT' : 'TEACHERS','APWU' : 'POSTAL WORKERS', 'ARA' : 'ALLIANCE FOR RETIRED AMERICANS', \n",
    "                                     'ATU' : 'AMALGAMATED TRANSIT', 'AWIU' : 'HEAT & FROST INSULATORS', 'BAC' : 'BRICKLAYERS', 'BCTGM' : 'BAKERY WORKERS',\n",
    "                                    'BRS' : 'SIGNALMAN, RAILROAD', 'CWA' : 'COMMUNICATIONS WORKERS', 'DALU' : 'DIRECTLY AFFILIATED UNIONS', 'GMP' : 'GLASS, MOLDERS, POTTERY', \n",
    "                                     'IAFF' : 'FIRE FIGHTERS', 'IAM' : 'MACHINISTS', 'IATSE' : 'STAGE EMPLOYEES', 'IBB' : 'BOILERMAKERS',\n",
    "                                     'IBEW' : 'ELECTRICAL WORKERS', 'IBT' : 'TEAMSTERS', 'ILA' : 'LONGSHOREMAN', 'IRONWORKERS' : 'IRON WORKERS',\n",
    "                                    'IUEC' : 'ELEVATOR CONSTRUCTORS', 'IUOE' : 'ENGINEERS, OPERATING', 'IUPA' : 'POLICE ASSOCIATION', 'IUPAT' : 'PAINTERS', 'LIUNA' : 'LABORERS',\n",
    "                                    'NALC' : 'LETTER CARRIERS', 'NATCA' : 'AIR TRAFFIC CONTROLLERS', 'NNU' : 'NATIONAL NURSES UNITED', 'NPMHU' : 'MAIL HANDLERS', \n",
    "                                     'OPCMIA' : 'PLASTERERS', 'OPEIU' : 'OFFICE & PROFESSIONAL', 'SEIU' : 'SERVICE EMPLOYEES',\n",
    "                                     'SMWIA' : 'SHEET METAL WORKERS', 'TWU' : 'TRANSPORT WORKERS', 'UA' : 'PLUMBERS & PIPEFITTERS', 'UAW' : 'AUTO WORKERS',\n",
    "                                    'UFCW' : 'FOOD AND COMMERCIAL', 'UMWA' : 'MINE WORKERS', 'USW' : 'STEELWORKERS',\n",
    "                                     'UTU' : 'UNITED TRANSPORTATION UNION', 'UWUA' : 'UTILITY WORKERS', 'WA' : 'WRITERS GUILD'}})\n",
    "\n",
    "v14_int_longname = v14.replace({'International_Name' : { 'AFGE' : 'GOVERNMENT WORKERS', 'AFGWU' : 'GLASS WORKERS, FLINT', 'AFM' : 'MUSICIANS', 'AFSA' : 'SCHOOL ADMINISTRATORS', \n",
    "                                     'AFSCME' : 'STATE, COUNTY & MUNICIPAL EMPLOYEES', 'AFT' : 'TEACHERS','APWU' : 'POSTAL WORKERS', 'ARA' : 'ALLIANCE FOR RETIRED AMERICANS', \n",
    "                                     'ATU' : 'AMALGAMATED TRANSIT', 'AWIU' : 'HEAT & FROST INSULATORS', 'BAC' : 'BRICKLAYERS', 'BCTGM' : 'BAKERY WORKERS',\n",
    "                                    'BRS' : 'SIGNALMAN, RAILROAD', 'CWA' : 'COMMUNICATIONS WORKERS', 'DALU' : 'DIRECTLY AFFILIATED UNIONS', 'GMP' : 'GLASS, MOLDERS, POTTERY', \n",
    "                                     'IAFF' : 'FIRE FIGHTERS', 'IAM' : 'MACHINISTS', 'IATSE' : 'STAGE EMPLOYEES', 'IBB' : 'BOILERMAKERS',\n",
    "                                     'IBEW' : 'ELECTRICAL WORKERS', 'IBT' : 'TEAMSTERS', 'ILA' : 'LONGSHOREMAN', 'IRONWORKERS' : 'IRON WORKERS',\n",
    "                                    'IUEC' : 'ELEVATOR CONSTRUCTORS', 'IUOE' : 'ENGINEERS, OPERATING', 'IUPA' : 'POLICE ASSOCIATION', 'IUPAT' : 'PAINTERS', 'LIUNA' : 'LABORERS',\n",
    "                                    'NALC' : 'LETTER CARRIERS', 'NATCA' : 'AIR TRAFFIC CONTROLLERS', 'NNU' : 'NATIONAL NURSES UNITED', 'NPMHU' : 'MAIL HANDLERS', \n",
    "                                     'OPCMIA' : 'PLASTERERS', 'OPEIU' : 'OFFICE & PROFESSIONAL', 'SEIU' : 'SERVICE EMPLOYEES',\n",
    "                                     'SMWIA' : 'SHEET METAL WORKERS', 'TWU' : 'TRANSPORT WORKERS', 'UA' : 'PLUMBERS & PIPEFITTERS', 'UAW' : 'AUTO WORKERS',\n",
    "                                    'UFCW' : 'FOOD AND COMMERCIAL', 'UMWA' : 'MINE WORKERS', 'USW' : 'STEELWORKERS',\n",
    "                                     'UTU' : 'UNITED TRANSPORTATION UNION', 'UWUA' : 'UTILITY WORKERS', 'WA' : 'WRITERS GUILD'}})\n",
    "\n",
    "\n",
    "\n"
   ]
  },
  {
   "cell_type": "code",
   "execution_count": null,
   "metadata": {},
   "outputs": [],
   "source": [
    "# Confirm that column changes took affect\n",
    "v14_int_longname.International_Name.unique()"
   ]
  },
  {
   "cell_type": "code",
   "execution_count": null,
   "metadata": {
    "collapsed": true
   },
   "outputs": [],
   "source": [
    "# Create new column called Volunteer_International where values come from Participant_International or International_Name depending on if Participant_International is null\n",
    "v12_int_longname['Volunteer_International'] = np.where(v12_int_longname['Participant_International'].isnull(), v12_int_longname['International_Name'], v12_int_longname['Participant_International'])\n",
    "v14_int_longname['Volunteer_International'] = np.where(v14_int_longname['Participant_International'].isnull(), v14_int_longname['International_Name'], v14_int_longname['Participant_International'])"
   ]
  },
  {
   "cell_type": "code",
   "execution_count": null,
   "metadata": {},
   "outputs": [],
   "source": [
    "v12_int_longname"
   ]
  },
  {
   "cell_type": "code",
   "execution_count": null,
   "metadata": {
    "collapsed": true
   },
   "outputs": [],
   "source": [
    "# Create an excel files from the final dataframe, results.\n",
    "v12_writer = pd.ExcelWriter('Exercise2-12.xlsx', engine='xlsxwriter')\n",
    "v14_writer = pd.ExcelWriter('Exercise2-14.xlsx', engine='xlsxwriter')\n",
    "v12_int_longname.to_excel(v12_writer, index=False, sheet_name='report')\n",
    "v14_int_longname.to_excel(v14_writer, index=False, sheet_name='report')\n",
    "v12_writer.save()\n",
    "v14_writer.save()"
   ]
  },
  {
   "cell_type": "code",
   "execution_count": null,
   "metadata": {
    "collapsed": true
   },
   "outputs": [],
   "source": []
  }
 ],
 "metadata": {
  "kernelspec": {
   "display_name": "Python 2",
   "language": "python",
   "name": "python2"
  },
  "language_info": {
   "codemirror_mode": {
    "name": "ipython",
    "version": 2
   },
   "file_extension": ".py",
   "mimetype": "text/x-python",
   "name": "python",
   "nbconvert_exporter": "python",
   "pygments_lexer": "ipython2",
   "version": "2.7.13"
  }
 },
 "nbformat": 4,
 "nbformat_minor": 2
}
