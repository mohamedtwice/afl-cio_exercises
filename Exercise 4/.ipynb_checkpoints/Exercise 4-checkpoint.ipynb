{
 "cells": [
  {
   "cell_type": "code",
   "execution_count": null,
   "metadata": {
    "collapsed": true
   },
   "outputs": [],
   "source": [
    "# Importing pandas, numpy, and xlsxwriter\n",
    "import pandas as pd\n",
    "import numpy as np\n",
    "from xlsxwriter.utility import xl_rowcol_to_cell"
   ]
  },
  {
   "cell_type": "code",
   "execution_count": null,
   "metadata": {
    "collapsed": true
   },
   "outputs": [],
   "source": [
    "# Convert spreadsheets into variables and merge them\n",
    "v12 = pd.read_excel('../data/Volunteers 1.1.12-12.31.12.xlsx')\n",
    "v14 = pd.read_excel('../data/Volunteers 1.1.14-12.31.14.xlsx')\n",
    "v12_14 = pd.concat([v12, v14])"
   ]
  },
  {
   "cell_type": "code",
   "execution_count": null,
   "metadata": {
    "collapsed": true
   },
   "outputs": [],
   "source": [
    "# Check column names\n",
    "v12_14.columns"
   ]
  },
  {
   "cell_type": "code",
   "execution_count": null,
   "metadata": {
    "collapsed": true
   },
   "outputs": [],
   "source": [
    "# Replace spaces in column names with underscores\n",
    "v12_14.columns = v12_14.columns.str.replace(' ', '_')"
   ]
  },
  {
   "cell_type": "code",
   "execution_count": null,
   "metadata": {
    "collapsed": true
   },
   "outputs": [],
   "source": [
    "# Check to see if spaces are now underscores\n",
    "v12_14.columns"
   ]
  },
  {
   "cell_type": "code",
   "execution_count": null,
   "metadata": {
    "collapsed": true
   },
   "outputs": [],
   "source": [
    "# Check the unique values of the Home_State column\n",
    "v12_14['Home_State'].unique()"
   ]
  },
  {
   "cell_type": "code",
   "execution_count": null,
   "metadata": {
    "collapsed": true
   },
   "outputs": [],
   "source": [
    "# Check row(s) that have Sunrise as their value in the Home_State column\n",
    "v12_14[v12_14['Home_State'] == 'Sunrise']"
   ]
  },
  {
   "cell_type": "code",
   "execution_count": null,
   "metadata": {
    "collapsed": true
   },
   "outputs": [],
   "source": [
    "# Checking to see if the EventName similar to the Surise row exist to confirm actual state  \n",
    "v12_14[v12_14['EventName'] == 'Canvassing in Broward']"
   ]
  },
  {
   "cell_type": "code",
   "execution_count": null,
   "metadata": {
    "collapsed": true
   },
   "outputs": [],
   "source": [
    "# Check row(s) that have Hollywood as their value in the Home_State column\n",
    "v12_14[v12_14['Home_State'] == 'Hollywood']"
   ]
  },
  {
   "cell_type": "code",
   "execution_count": null,
   "metadata": {
    "collapsed": true
   },
   "outputs": [],
   "source": [
    "# Check row(s) that have Ft Lauderdale as their value in the Home_State column\n",
    "v12_14[v12_14['Home_State'] == 'Ft Lauderdale']"
   ]
  },
  {
   "cell_type": "code",
   "execution_count": null,
   "metadata": {
    "collapsed": true
   },
   "outputs": [],
   "source": [
    "# After confirming the true states, replace current false values with actual values\n",
    "v12_14['Home_State'].replace(['Hollywood'],['FL'],inplace=True)\n",
    "v12_14['Home_State'].replace(['Ft Lauderdale'], ['FL'],inplace=True)\n",
    "v12_14['Home_State'].replace(['Sunrise'], ['FL'],inplace=True)"
   ]
  },
  {
   "cell_type": "code",
   "execution_count": null,
   "metadata": {
    "collapsed": true
   },
   "outputs": [],
   "source": [
    "# Confirm replacement was successful\n",
    "v12_14[('Home_State')].unique()"
   ]
  },
  {
   "cell_type": "code",
   "execution_count": null,
   "metadata": {
    "collapsed": true
   },
   "outputs": [],
   "source": [
    "# Create individual dataframes for each state\n",
    "fl_file = v12_14[v12_14['Home_State'].isin(['FL'])].copy()\n",
    "nc_file = v12_14[v12_14['Home_State'].isin(['NC'])].copy()\n",
    "oh_file = v12_14[v12_14['Home_State'].isin(['OH'])].copy()\n",
    "wi_file = v12_14[v12_14['Home_State'].isin(['WI'])].copy()\n",
    "mo_file = v12_14[v12_14['Home_State'].isin(['MO'])].copy()\n",
    "pa_file = v12_14[v12_14['Home_State'].isin(['PA'])].copy()\n",
    "nv_file = v12_14[v12_14['Home_State'].isin(['NV'])].copy()"
   ]
  },
  {
   "cell_type": "code",
   "execution_count": null,
   "metadata": {
    "collapsed": true,
    "scrolled": true
   },
   "outputs": [],
   "source": [
    "# Test and split was successful\n",
    "nv_file.tail()\n",
    "nv_file.head()"
   ]
  },
  {
   "cell_type": "code",
   "execution_count": null,
   "metadata": {
    "collapsed": true
   },
   "outputs": [],
   "source": [
    "# Create a new excel file, with a unique name and location. *Note: I created \"bystate\" folder before running this\n",
    "fl_writer = pd.ExcelWriter('./bystate/fl_file.xlsx', engine='xlsxwriter')\n",
    "nc_writer = pd.ExcelWriter('./bystate/nc_file.xlsx', engine='xlsxwriter')\n",
    "oh_writer = pd.ExcelWriter('./bystate/oh_file.xlsx', engine='xlsxwriter')\n",
    "wi_writer = pd.ExcelWriter('./bystate/wi_file.xlsx', engine='xlsxwriter')\n",
    "mo_writer = pd.ExcelWriter('./bystate/mo_file.xlsx', engine='xlsxwriter')\n",
    "pa_writer = pd.ExcelWriter('./bystate/pa_file.xlsx', engine='xlsxwriter')\n",
    "nv_writer = pd.ExcelWriter('./bystate/nv_file.xlsx', engine='xlsxwriter')"
   ]
  },
  {
   "cell_type": "code",
   "execution_count": null,
   "metadata": {
    "collapsed": true
   },
   "outputs": [],
   "source": [
    "# Write each state dataframes to its respective file \n",
    "fl_file.to_excel(fl_writer, index=False, sheet_name='report')\n",
    "nc_file.to_excel(nc_writer, index=False, sheet_name='report')\n",
    "oh_file.to_excel(oh_writer, index=False, sheet_name='report')\n",
    "wi_file.to_excel(wi_writer, index=False, sheet_name='report')\n",
    "mo_file.to_excel(mo_writer, index=False, sheet_name='report')\n",
    "pa_file.to_excel(pa_writer, index=False, sheet_name='report')\n",
    "nv_file.to_excel(nv_writer, index=False, sheet_name='report')"
   ]
  },
  {
   "cell_type": "code",
   "execution_count": null,
   "metadata": {
    "collapsed": true,
    "scrolled": true
   },
   "outputs": [],
   "source": [
    "# Save and finalize each file\n",
    "fl_writer.save()\n",
    "nc_writer.save()\n",
    "oh_writer.save()\n",
    "wi_writer.save()\n",
    "mo_writer.save()\n",
    "pa_writer.save()\n",
    "nv_writer.save()"
   ]
  }
 ],
 "metadata": {
  "kernelspec": {
   "display_name": "Python 2",
   "language": "python",
   "name": "python2"
  },
  "language_info": {
   "codemirror_mode": {
    "name": "ipython",
    "version": 2
   },
   "file_extension": ".py",
   "mimetype": "text/x-python",
   "name": "python",
   "nbconvert_exporter": "python",
   "pygments_lexer": "ipython2",
   "version": "2.7.13"
  }
 },
 "nbformat": 4,
 "nbformat_minor": 2
}
